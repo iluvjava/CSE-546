{
  "nbformat": 4,
  "nbformat_minor": 0,
  "metadata": {
    "colab": {
      "name": "recommendation_system.ipynb",
      "provenance": [],
      "collapsed_sections": [
        "OaQjqZWrrrRE",
        "_GigBXaEzldp",
        "sjzV9ks4meQu",
        "bxwj0c0ZhrUs",
        "d408o3wVhuVa",
        "jk0xs4aBh12O",
        "VJ7UW5mdiWJC",
        "DB2yGNADi0yU",
        "RTVR04ghjnNO",
        "tKa0gVg_mAd3"
      ]
    },
    "kernelspec": {
      "name": "python3",
      "display_name": "Python 3"
    },
    "language_info": {
      "name": "python"
    },
    "accelerator": "GPU"
  },
  "cells": [
    {
      "cell_type": "code",
      "metadata": {
        "colab": {
          "base_uri": "https://localhost:8080/"
        },
        "id": "dAWBh3sPf4ef",
        "outputId": "0f7a702d-f225-4fa4-ec25-9e04f6cd5d2d"
      },
      "source": [
        "import torch\n",
        "import torch.nn as nn\n",
        "import numpy as np\n",
        "from scipy import sparse\n",
        "import matplotlib.pyplot as plt\n",
        "from google.colab import files\n",
        "from google.colab import drive\n",
        "drive.mount('/content/drive')"
      ],
      "execution_count": 1,
      "outputs": [
        {
          "output_type": "stream",
          "text": [
            "Drive already mounted at /content/drive; to attempt to forcibly remount, call drive.mount(\"/content/drive\", force_remount=True).\n"
          ],
          "name": "stdout"
        }
      ]
    },
    {
      "cell_type": "code",
      "metadata": {
        "id": "f8yjao4bfOmN"
      },
      "source": [
        "from scipy.sparse import linalg"
      ],
      "execution_count": 2,
      "outputs": []
    },
    {
      "cell_type": "code",
      "metadata": {
        "id": "nFmhPJ_sg8JP"
      },
      "source": [
        "# load train and test set\n",
        "import csv\n",
        "import numpy as np\n",
        "data = []\n",
        "with open('/content/drive/My Drive/ml-100k/u.data') as csvfile:\n",
        "    spamreader = csv.reader(csvfile, delimiter='\\t')\n",
        "    for row in spamreader:\n",
        "        data.append([int(row[0])-1, int(row[1])-1, int(row[2])])\n",
        "data = np.array(data)\n",
        "num_observations = len(data) # num_observations = 100,000\n",
        "num_users = max(data[:,0])+1 # num_users = 943, indexed 0,...,942\n",
        "num_items = max(data[:,1])+1 # num_items = 1682 indexed 0,...,1681\n",
        "np.random.seed(1)\n",
        "num_train = int(0.8*num_observations)\n",
        "perm = np.random.permutation(data.shape[0])\n",
        "train = data[perm[0:num_train],:]\n",
        "test = data[perm[num_train::],:]"
      ],
      "execution_count": 3,
      "outputs": []
    },
    {
      "cell_type": "code",
      "metadata": {
        "id": "ISFPCGKLhceA"
      },
      "source": [
        "# specifications\n",
        "num_usrs = 943\n",
        "num_mvs = 1682\n",
        "\n",
        "# create sparse matrix\n",
        "train_sparse = torch.sparse_coo_tensor(train[:,0:2].T, train[:,2], (num_usrs, num_mvs))\n",
        "test_sparse = torch.sparse_coo_tensor(test[:,0:2].T, test[:,2], (num_usrs, num_mvs))"
      ],
      "execution_count": 4,
      "outputs": []
    },
    {
      "cell_type": "markdown",
      "metadata": {
        "id": "OaQjqZWrrrRE"
      },
      "source": [
        "# part a"
      ]
    },
    {
      "cell_type": "code",
      "metadata": {
        "id": "qb6XyOfGhsKB"
      },
      "source": [
        "def average_rating(train_sparse):\n",
        "    '''\n",
        "    train_sparse: a sparse matrix\n",
        "    '''\n",
        "    train = train_sparse.to_dense()\n",
        "    # compute sum\n",
        "    sum = torch.sum(train, dim = 0)\n",
        "    # count non-zeros\n",
        "    nnz = torch.sum((train != 0)*1, dim = 0)\n",
        "    # compute average rating\n",
        "    avr = sum / nnz\n",
        "    # compute global average\n",
        "    global_sum = torch.sum(train)\n",
        "    global_nnz = torch.sum((train != 0)*1)\n",
        "    # assign nan by global average\n",
        "    avr[avr != avr] = global_sum / global_nnz\n",
        "\n",
        "    return avr\n",
        "\n",
        "def ar_predict_err(R, test):\n",
        "    '''\n",
        "    test: original index matrix\n",
        "    '''\n",
        "    test_pred = R[test[:,1]]\n",
        "    test_err = torch.mean( (test_pred - test[:,2])**2 )\n",
        "\n",
        "    return test_pred, test_err"
      ],
      "execution_count": 41,
      "outputs": []
    },
    {
      "cell_type": "code",
      "metadata": {
        "id": "xCB_RA58hs-R"
      },
      "source": [
        "# compute average rating estimator\n",
        "Ra = average_rating(train_sparse)"
      ],
      "execution_count": 34,
      "outputs": []
    },
    {
      "cell_type": "code",
      "metadata": {
        "colab": {
          "base_uri": "https://localhost:8080/"
        },
        "id": "hFbpoPGwpe6X",
        "outputId": "3c60c7b2-e6b4-47ed-f31f-8e6541890215"
      },
      "source": [
        "# evaluate on test set\n",
        "test_preda, test_erra = ar_predict_err(Ra, test)\n",
        "print(f'The test error for this estimate is {test_erra:.6f} based on individual ratings in test set. ')"
      ],
      "execution_count": 48,
      "outputs": [
        {
          "output_type": "stream",
          "text": [
            "The test error for this estimate is 1.055078 based on individual ratings in test set. \n"
          ],
          "name": "stdout"
        }
      ]
    },
    {
      "cell_type": "code",
      "metadata": {
        "colab": {
          "base_uri": "https://localhost:8080/"
        },
        "id": "UENc73650EnO",
        "outputId": "9ec30948-1993-4bb1-e44f-e94b62c28bc1"
      },
      "source": [
        "# compute average rating in test set\n",
        "Ratest = average_rating(test_sparse)\n",
        "test_erra2 = torch.mean( (Ra - Ratest)**2 )\n",
        "print(f'The test error for this estimate is {test_erra2:.6f} based on all ratings in test set. ')"
      ],
      "execution_count": 49,
      "outputs": [
        {
          "output_type": "stream",
          "text": [
            "The test error for this estimate is 0.761050 based on all ratings in test set. \n"
          ],
          "name": "stdout"
        }
      ]
    },
    {
      "cell_type": "markdown",
      "metadata": {
        "id": "_GigBXaEzldp"
      },
      "source": [
        "# part b"
      ]
    },
    {
      "cell_type": "code",
      "metadata": {
        "id": "VDBbtZKGfYYZ"
      },
      "source": [
        "# create scipy sparse matrix\n",
        "train_sparse2 = sparse.csr_matrix((train[:,2], (train[:,0], train[:,1])), shape = (num_usrs, num_mvs))\n",
        "test_sparse2 = sparse.csr_matrix((test[:,2], (test[:,0], test[:,1])), shape = (num_usrs, num_mvs))"
      ],
      "execution_count": 16,
      "outputs": []
    },
    {
      "cell_type": "code",
      "metadata": {
        "id": "OldE6l4Tg9N9"
      },
      "source": [
        "train_sparse2 = train_sparse2.asfptype()\n",
        "test_sparse2 = test_sparse2.asfptype()"
      ],
      "execution_count": 21,
      "outputs": []
    },
    {
      "cell_type": "code",
      "metadata": {
        "id": "jZNgcYq9tjfh"
      },
      "source": [
        "# SVD\n",
        "u, s, vh = sparse.linalg.svds(train_sparse2, k = 942)"
      ],
      "execution_count": 48,
      "outputs": []
    },
    {
      "cell_type": "code",
      "metadata": {
        "id": "lFOjqpNDzSwM"
      },
      "source": [
        "def rank_k_svd(u, s, vh, k):\n",
        "    '''\n",
        "    Rank k approximation based on svd\n",
        "    '''\n",
        "    d = s.shape[0]\n",
        "    sigma = np.diag(s[(d-k):d])\n",
        "    return u[:,(d-k):d] @ sigma @ vh[(d-k):d]\n",
        "\n",
        "def svd_compute_err(Rhat, test):\n",
        "    '''\n",
        "    test: original index matrix\n",
        "    '''\n",
        "    nnz = test.shape[0]\n",
        "    test_pred = np.array([Rhat[test[i,0], test[i,1]] for i in range(nnz)])\n",
        "    test_err = np.mean( (test_pred - test[:,2])**2 )\n",
        "\n",
        "    return test_pred, test_err"
      ],
      "execution_count": 37,
      "outputs": []
    },
    {
      "cell_type": "code",
      "metadata": {
        "id": "CLAeYM89gBqQ"
      },
      "source": [
        "# reconstruction\n",
        "k_list = [1, 2, 5, 10, 20, 50]\n",
        "Rhat_list = []\n",
        "train_err_list = []\n",
        "test_err_list = []\n",
        "for ki in k_list:\n",
        "    Rhat = rank_k_svd(u, s, vh, ki)\n",
        "    _, train_err = svd_compute_err(Rhat, train)\n",
        "    _, test_err = svd_compute_err(Rhat, test)\n",
        "    Rhat_list.append(Rhat)\n",
        "    train_err_list.append(train_err)\n",
        "    test_err_list.append(test_err)"
      ],
      "execution_count": 53,
      "outputs": []
    },
    {
      "cell_type": "code",
      "metadata": {
        "colab": {
          "base_uri": "https://localhost:8080/",
          "height": 295
        },
        "id": "6DwNFkDshdc7",
        "outputId": "82481722-371f-46ac-dfd7-0b6de2642517"
      },
      "source": [
        "# plot eigenvalue distribution\n",
        "figname = 'b1b'\n",
        "plt.figure(figsize=(6,4))\n",
        "plt.plot(torch.arange(len(k_list)), train_err_list, label = 'Training reconstruction error')\n",
        "plt.plot(torch.arange(len(k_list)), test_err_list, label = 'Testing reconstruction error')\n",
        "plt.title('Reconstruction error with first d eigenvectors')\n",
        "plt.xlabel('d')\n",
        "plt.ylabel('Error')\n",
        "plt.xticks(range(len(k_list)), k_list)\n",
        "plt.xlim([-0.5, len(k_list)-0.5])\n",
        "plt.legend()\n",
        "plt.savefig(figname+'.png', dpi = 300)\n",
        "files.download(figname+'.png')\n",
        "plt.show()"
      ],
      "execution_count": 63,
      "outputs": [
        {
          "output_type": "display_data",
          "data": {
            "application/javascript": [
              "\n",
              "    async function download(id, filename, size) {\n",
              "      if (!google.colab.kernel.accessAllowed) {\n",
              "        return;\n",
              "      }\n",
              "      const div = document.createElement('div');\n",
              "      const label = document.createElement('label');\n",
              "      label.textContent = `Downloading \"${filename}\": `;\n",
              "      div.appendChild(label);\n",
              "      const progress = document.createElement('progress');\n",
              "      progress.max = size;\n",
              "      div.appendChild(progress);\n",
              "      document.body.appendChild(div);\n",
              "\n",
              "      const buffers = [];\n",
              "      let downloaded = 0;\n",
              "\n",
              "      const channel = await google.colab.kernel.comms.open(id);\n",
              "      // Send a message to notify the kernel that we're ready.\n",
              "      channel.send({})\n",
              "\n",
              "      for await (const message of channel.messages) {\n",
              "        // Send a message to notify the kernel that we're ready.\n",
              "        channel.send({})\n",
              "        if (message.buffers) {\n",
              "          for (const buffer of message.buffers) {\n",
              "            buffers.push(buffer);\n",
              "            downloaded += buffer.byteLength;\n",
              "            progress.value = downloaded;\n",
              "          }\n",
              "        }\n",
              "      }\n",
              "      const blob = new Blob(buffers, {type: 'application/binary'});\n",
              "      const a = document.createElement('a');\n",
              "      a.href = window.URL.createObjectURL(blob);\n",
              "      a.download = filename;\n",
              "      div.appendChild(a);\n",
              "      a.click();\n",
              "      div.remove();\n",
              "    }\n",
              "  "
            ],
            "text/plain": [
              "<IPython.core.display.Javascript object>"
            ]
          },
          "metadata": {
            "tags": []
          }
        },
        {
          "output_type": "display_data",
          "data": {
            "application/javascript": [
              "download(\"download_0d8eb011-25de-48b8-8ac3-939b0fb4e3e3\", \"b1b.png\", 107364)"
            ],
            "text/plain": [
              "<IPython.core.display.Javascript object>"
            ]
          },
          "metadata": {
            "tags": []
          }
        },
        {
          "output_type": "display_data",
          "data": {
            "image/png": "[encoded data removed]",
            "text/plain": [
              "<Figure size 432x288 with 1 Axes>"
            ]
          },
          "metadata": {
            "tags": [],
            "needs_background": "light"
          }
        }
      ]
    },
    {
      "cell_type": "code",
      "metadata": {
        "id": "5X0UXIGTk2F2"
      },
      "source": [
        ""
      ],
      "execution_count": null,
      "outputs": []
    },
    {
      "cell_type": "markdown",
      "metadata": {
        "id": "sjzV9ks4meQu"
      },
      "source": [
        "# part c"
      ]
    },
    {
      "cell_type": "markdown",
      "metadata": {
        "id": "bxwj0c0ZhrUs"
      },
      "source": [
        "## definition"
      ]
    },
    {
      "cell_type": "code",
      "metadata": {
        "id": "KjOsj6j2aQN4"
      },
      "source": [
        "def mat_factor(train_ori, d, num_iter = 100, TOL = 1e-2, lamb = 10, sigma = 0, u0 = None, v0 = None):\n",
        "    '''\n",
        "    Alternating minimization for matrix factorization\n",
        "    train: sparse tensor\n",
        "    d: reconstruction dimension\n",
        "    '''\n",
        "    # create sparse matrix\n",
        "    train = torch.sparse_coo_tensor(train_ori[:,0:2].T, train_ori[:,2], (num_usrs, num_mvs))\n",
        "    train = train.to_dense().float()\n",
        "    m, n = train.shape\n",
        "\n",
        "    # initialize\n",
        "    if u0 is None:\n",
        "        u = sigma * torch.rand(m, d)\n",
        "    else:\n",
        "        u = torch.Tensor(u0)\n",
        "    if v0 is None:\n",
        "        v = sigma * torch.rand(n, d)\n",
        "    else:\n",
        "        v = torch.Tensor(v0)\n",
        "    lambI = lamb * torch.eye(d)\n",
        "\n",
        "    # put onto cuda\n",
        "    if torch.cuda.is_available() is True:\n",
        "        u = u.cuda()\n",
        "        v = v.cuda()\n",
        "        train = train.cuda()\n",
        "        lambI = lambI.cuda()\n",
        "    \n",
        "    max_inner_iter = min(m, n)\n",
        "    # compute first datapoint\n",
        "    Rhat = u @ v.T\n",
        "    err = mf_compute_err(Rhat, train_ori)\n",
        "    err_list = [err]\n",
        "    \n",
        "    for i in range(num_iter):\n",
        "        \n",
        "        # alternate update\n",
        "        uh, _ = torch.solve(v.T @ train.T, (v.T @ v + lambI))\n",
        "        u = uh.T\n",
        "        vh, _ = torch.solve(u.T @ train, (u.T @ u + lambI))\n",
        "        v = vh.T\n",
        "        \n",
        "        # report progress\n",
        "        Rhat = u @ v.T\n",
        "        err = mf_compute_err(Rhat, train_ori)\n",
        "        err_list.append(err)\n",
        "        print(f'Iteration [{i+1}/{num_iter}]: Train error {err}. ')\n",
        "        # check if converge\n",
        "        if np.abs(err - err_list[-2]) < TOL:\n",
        "            print(f'Converge at iteration [{i+1}/{num_iter}] with Train error {err}, d = {d}, lambda = {lamb}, sigma = {sigma}. Quit! ')\n",
        "            break\n",
        "\n",
        "    return Rhat, err_list, u, v\n",
        "\n",
        "def mf_compute_err(Rhat, test):\n",
        "    '''\n",
        "    test: original index matrix\n",
        "    '''\n",
        "    nnz = test.shape[0]\n",
        "    test_pred = torch.Tensor([Rhat[test[i,0], test[i,1]] for i in range(nnz)])\n",
        "    test_err = torch.mean( (test_pred - test[:,2])**2 )\n",
        "\n",
        "    return test_err"
      ],
      "execution_count": 270,
      "outputs": []
    },
    {
      "cell_type": "markdown",
      "metadata": {
        "id": "d408o3wVhuVa"
      },
      "source": [
        "## k = 50, lambda = 57"
      ]
    },
    {
      "cell_type": "code",
      "metadata": {
        "colab": {
          "base_uri": "https://localhost:8080/"
        },
        "id": "Om5C4nrgDU7x",
        "outputId": "1fdfe465-1788-4e37-fa3c-f896321cf46f"
      },
      "source": [
        "# use solution from part b\n",
        "k = 50\n",
        "u0 = u[:,(-k):] @ np.diag(s[(-k):])\n",
        "v0h = vh[(-k):]\n",
        "v0 = v0h.T\n",
        "\n",
        "Rhatc50, train_errc, uc, vc = mat_factor(train, d = k, num_iter = 1000, TOL = 1e-3, lamb = 57, sigma = 0, u0 = u0, v0 = v0)"
      ],
      "execution_count": 218,
      "outputs": [
        {
          "output_type": "stream",
          "text": [
            "Iteration [1/1000]: Train error 9.963596219482469. \n",
            "Iteration [2/1000]: Train error 7.729993506105853. \n",
            "Iteration [3/1000]: Train error 7.319858361756909. \n",
            "Iteration [4/1000]: Train error 7.145235673587187. \n",
            "Iteration [5/1000]: Train error 7.05268161160958. \n",
            "Iteration [6/1000]: Train error 7.000750540585374. \n",
            "Iteration [7/1000]: Train error 6.970079490983188. \n",
            "Iteration [8/1000]: Train error 6.951257354269308. \n",
            "Iteration [9/1000]: Train error 6.939379163075952. \n",
            "Iteration [10/1000]: Train error 6.931711805650459. \n",
            "Iteration [11/1000]: Train error 6.926663925023054. \n",
            "Iteration [12/1000]: Train error 6.923276881855336. \n",
            "Iteration [13/1000]: Train error 6.920963429603696. \n",
            "Iteration [14/1000]: Train error 6.919354577263376. \n",
            "Iteration [15/1000]: Train error 6.918216386947662. \n",
            "Iteration [16/1000]: Train error 6.917397374792087. \n",
            "Converge at iteration [16/1000] with Train error 6.917397374792087, d = 50, lambda = 57, sigma = 0. Quit! \n"
          ],
          "name": "stdout"
        }
      ]
    },
    {
      "cell_type": "markdown",
      "metadata": {
        "id": "jk0xs4aBh12O"
      },
      "source": [
        "## k = 10, lambda = 0"
      ]
    },
    {
      "cell_type": "code",
      "metadata": {
        "colab": {
          "base_uri": "https://localhost:8080/"
        },
        "id": "wSXADbK4iSGR",
        "outputId": "d91d73d1-1d0d-4d16-c975-5f7a8321af18"
      },
      "source": [
        "# use solution from part b\n",
        "k = 10\n",
        "u0 = u[:,(-k):] @ np.diag(s[(-k):])\n",
        "v0h = vh[(-k):]\n",
        "v0 = v0h.T\n",
        "\n",
        "Rhatc10, train_errc, uc, vc = mat_factor(train, d = k, num_iter = 1000, TOL = 1e-3, lamb = 0, sigma = 0, u0 = u0, v0 = v0)"
      ],
      "execution_count": 223,
      "outputs": [
        {
          "output_type": "stream",
          "text": [
            "Iteration [1/1000]: Train error 6.149907326899895. \n",
            "Converge at iteration [1/1000] with Train error 6.149907326899895, d = 10, lambda = 0, sigma = 0. Quit! \n"
          ],
          "name": "stdout"
        }
      ]
    },
    {
      "cell_type": "markdown",
      "metadata": {
        "id": "VJ7UW5mdiWJC"
      },
      "source": [
        "## k = 20, lambda = 0.03"
      ]
    },
    {
      "cell_type": "code",
      "metadata": {
        "colab": {
          "base_uri": "https://localhost:8080/"
        },
        "id": "JNbYrH9miyUO",
        "outputId": "fc8442e6-84ef-4bea-e869-879fdcf15a58"
      },
      "source": [
        "# use solution from part b\n",
        "k = 20\n",
        "u0 = u[:,(-k):] @ np.diag(s[(-k):])\n",
        "v0h = vh[(-k):]\n",
        "v0 = v0h.T\n",
        "\n",
        "Rhatc20, train_errc, uc, vc = mat_factor(train, d = k, num_iter = 1000, TOL = 1e-3, lamb = 0.03, sigma = 0, u0 = u0, v0 = v0)"
      ],
      "execution_count": 269,
      "outputs": [
        {
          "output_type": "stream",
          "text": [
            "Iteration [1/1000]: Train error 5.444747657166143. \n",
            "Converge at iteration [1/1000] with Train error 5.444747657166143, d = 20, lambda = 0.03, sigma = 0. Quit! \n"
          ],
          "name": "stdout"
        }
      ]
    },
    {
      "cell_type": "markdown",
      "metadata": {
        "id": "DB2yGNADi0yU"
      },
      "source": [
        "## k = 5, lambda = 0"
      ]
    },
    {
      "cell_type": "code",
      "metadata": {
        "colab": {
          "base_uri": "https://localhost:8080/"
        },
        "id": "WqIkjXypjkey",
        "outputId": "977fff3f-d0c4-4581-ff63-709d56979cb0"
      },
      "source": [
        "# use solution from part b\n",
        "k = 5\n",
        "u0 = u[:,(-k):] @ np.diag(s[(-k):])\n",
        "v0h = vh[(-k):]\n",
        "v0 = v0h.T\n",
        "\n",
        "Rhatc5, train_errc, uc, vc = mat_factor(train, d = k, num_iter = 1000, TOL = 1e-3, lamb = 0, sigma = 0, u0 = u0, v0 = v0)"
      ],
      "execution_count": 232,
      "outputs": [
        {
          "output_type": "stream",
          "text": [
            "Iteration [1/1000]: Train error 6.897781516605464. \n",
            "Converge at iteration [1/1000] with Train error 6.897781516605464, d = 5, lambda = 0, sigma = 0. Quit! \n"
          ],
          "name": "stdout"
        }
      ]
    },
    {
      "cell_type": "markdown",
      "metadata": {
        "id": "RTVR04ghjnNO"
      },
      "source": [
        "## k = 2, lambda = 0.05"
      ]
    },
    {
      "cell_type": "code",
      "metadata": {
        "colab": {
          "base_uri": "https://localhost:8080/"
        },
        "id": "bEJClgy2l3XT",
        "outputId": "0de76ec8-a075-4559-d04d-2b5c152ef83d"
      },
      "source": [
        "# use solution from part b\n",
        "k = 2\n",
        "u0 = u[:,(-k):] @ np.diag(s[(-k):])\n",
        "v0h = vh[(-k):]\n",
        "v0 = v0h.T\n",
        "\n",
        "Rhatc2, train_errc, uc, vc = mat_factor(train, d = k, num_iter = 1000, TOL = 1e-6, lamb = 0.05, sigma = 0, u0 = u0, v0 = v0)"
      ],
      "execution_count": 251,
      "outputs": [
        {
          "output_type": "stream",
          "text": [
            "Iteration [1/1000]: Train error 7.931859812137758. \n",
            "Converge at iteration [1/1000] with Train error 7.931859812137758, d = 2, lambda = 0.05, sigma = 0. Quit! \n"
          ],
          "name": "stdout"
        }
      ]
    },
    {
      "cell_type": "markdown",
      "metadata": {
        "id": "tKa0gVg_mAd3"
      },
      "source": [
        "## k = 1, lambda = 0"
      ]
    },
    {
      "cell_type": "code",
      "metadata": {
        "colab": {
          "base_uri": "https://localhost:8080/"
        },
        "id": "Ej-rPI42nLjR",
        "outputId": "11d65805-8e0a-4a7c-8c74-517cc074b992"
      },
      "source": [
        "# use solution from part b\n",
        "k = 1\n",
        "u0 = u[:,(-k):] @ np.diag(s[(-k):])\n",
        "v0h = vh[(-k):]\n",
        "v0 = v0h.T\n",
        "\n",
        "Rhatc1, train_errc, uc, vc = mat_factor(train, d = k, num_iter = 1000, TOL = 1e-6, lamb = 0, sigma = 0, u0 = u0, v0 = v0)"
      ],
      "execution_count": 260,
      "outputs": [
        {
          "output_type": "stream",
          "text": [
            "Iteration [1/1000]: Train error 8.592143872623959. \n",
            "Converge at iteration [1/1000] with Train error 8.592143872623959, d = 1, lambda = 0, sigma = 0. Quit! \n"
          ],
          "name": "stdout"
        }
      ]
    },
    {
      "cell_type": "markdown",
      "metadata": {
        "id": "qiBIM0kAnQ0v"
      },
      "source": [
        "## more"
      ]
    },
    {
      "cell_type": "code",
      "metadata": {
        "id": "VZv2YkDSROXF"
      },
      "source": [
        "# tune lambda\n",
        "final_train_err = []\n",
        "final_test_err = []\n",
        "k = 20\n",
        "u0 = u[:,(-k):] @ np.diag(s[(-k):])\n",
        "v0h = vh[(-k):]\n",
        "v0 = v0h.T\n",
        "\n",
        "for lamb in np.arange(0.01,0.11,0.01): \n",
        "    # compute solution and error\n",
        "    Rhatc, train_errc, uc, vc = mat_factor(train, d = k, num_iter = 100, TOL = 1e-6, lamb = lamb, sigma = 0, u0 = u0, v0 = v0)\n",
        "    _, test_errc = mf_compute_err(Rhatc, test)\n",
        "    final_train_err.append(train_errc[-1])\n",
        "    final_test_err.append(test_errc)"
      ],
      "execution_count": null,
      "outputs": []
    },
    {
      "cell_type": "code",
      "metadata": {
        "id": "2xNlK-0XROUF"
      },
      "source": [
        "train_ecc_listc = []\n",
        "test_ecc_listc = []\n",
        "train_ecc_listc.append(mf_compute_err(Rhatc1, train))\n",
        "test_ecc_listc.append(mf_compute_err(Rhatc1, test))\n",
        "train_ecc_listc.append(mf_compute_err(Rhatc2, train))\n",
        "test_ecc_listc.append(mf_compute_err(Rhatc2, test))\n",
        "train_ecc_listc.append(mf_compute_err(Rhatc5, train))\n",
        "test_ecc_listc.append(mf_compute_err(Rhatc5, test))\n",
        "train_ecc_listc.append(mf_compute_err(Rhatc10, train))\n",
        "test_ecc_listc.append(mf_compute_err(Rhatc10, test))\n",
        "train_ecc_listc.append(mf_compute_err(Rhatc20, train))\n",
        "test_ecc_listc.append(mf_compute_err(Rhatc20, test))\n",
        "train_ecc_listc.append(mf_compute_err(Rhatc50, train))\n",
        "test_ecc_listc.append(mf_compute_err(Rhatc50, test))"
      ],
      "execution_count": 271,
      "outputs": []
    },
    {
      "cell_type": "code",
      "metadata": {
        "colab": {
          "base_uri": "https://localhost:8080/",
          "height": 295
        },
        "id": "2_EFMHclROPM",
        "outputId": "1c2c3bae-6640-43a8-b0cc-da243eb3cb3f"
      },
      "source": [
        "# plot eigenvalue distribution\n",
        "figname = 'b1c'\n",
        "plt.figure(figsize=(6,4))\n",
        "plt.plot(torch.arange(len(k_list)), train_ecc_listc, label = 'Training reconstruction error')\n",
        "plt.plot(torch.arange(len(k_list)), test_ecc_listc, label = 'Testing reconstruction error')\n",
        "plt.title('Matrix completion error with first d eigenvectors by MF')\n",
        "plt.xlabel('d')\n",
        "plt.ylabel('Error')\n",
        "plt.xticks(range(len(k_list)), k_list)\n",
        "plt.xlim([-0.5, len(k_list)-0.5])\n",
        "plt.legend()\n",
        "plt.savefig(figname+'.png', dpi = 300)\n",
        "files.download(figname+'.png')\n",
        "plt.show()"
      ],
      "execution_count": 275,
      "outputs": [
        {
          "output_type": "display_data",
          "data": {
            "application/javascript": [
              "\n",
              "    async function download(id, filename, size) {\n",
              "      if (!google.colab.kernel.accessAllowed) {\n",
              "        return;\n",
              "      }\n",
              "      const div = document.createElement('div');\n",
              "      const label = document.createElement('label');\n",
              "      label.textContent = `Downloading \"${filename}\": `;\n",
              "      div.appendChild(label);\n",
              "      const progress = document.createElement('progress');\n",
              "      progress.max = size;\n",
              "      div.appendChild(progress);\n",
              "      document.body.appendChild(div);\n",
              "\n",
              "      const buffers = [];\n",
              "      let downloaded = 0;\n",
              "\n",
              "      const channel = await google.colab.kernel.comms.open(id);\n",
              "      // Send a message to notify the kernel that we're ready.\n",
              "      channel.send({})\n",
              "\n",
              "      for await (const message of channel.messages) {\n",
              "        // Send a message to notify the kernel that we're ready.\n",
              "        channel.send({})\n",
              "        if (message.buffers) {\n",
              "          for (const buffer of message.buffers) {\n",
              "            buffers.push(buffer);\n",
              "            downloaded += buffer.byteLength;\n",
              "            progress.value = downloaded;\n",
              "          }\n",
              "        }\n",
              "      }\n",
              "      const blob = new Blob(buffers, {type: 'application/binary'});\n",
              "      const a = document.createElement('a');\n",
              "      a.href = window.URL.createObjectURL(blob);\n",
              "      a.download = filename;\n",
              "      div.appendChild(a);\n",
              "      a.click();\n",
              "      div.remove();\n",
              "    }\n",
              "  "
            ],
            "text/plain": [
              "<IPython.core.display.Javascript object>"
            ]
          },
          "metadata": {
            "tags": []
          }
        },
        {
          "output_type": "display_data",
          "data": {
            "application/javascript": [
              "download(\"download_65b5ce92-1e9e-4ca8-a5d5-3597b448b3e0\", \"b1c.png\", 125659)"
            ],
            "text/plain": [
              "<IPython.core.display.Javascript object>"
            ]
          },
          "metadata": {
            "tags": []
          }
        },
        {
          "output_type": "display_data",
          "data": {
            "image/png": "[encoded data removed]",
            "text/plain": [
              "<Figure size 432x288 with 1 Axes>"
            ]
          },
          "metadata": {
            "tags": [],
            "needs_background": "light"
          }
        }
      ]
    },
    {
      "cell_type": "code",
      "metadata": {
        "id": "qRSTPpdRiFT3"
      },
      "source": [
        ""
      ],
      "execution_count": null,
      "outputs": []
    },
    {
      "cell_type": "markdown",
      "metadata": {
        "id": "MafCtYI3phud"
      },
      "source": [
        "# part d"
      ]
    },
    {
      "cell_type": "code",
      "metadata": {
        "id": "yt2FhAwgs66A"
      },
      "source": [
        "cuda = torch.device('cuda') "
      ],
      "execution_count": 6,
      "outputs": []
    },
    {
      "cell_type": "code",
      "metadata": {
        "id": "fnlt4hWPpisx"
      },
      "source": [
        "def sgd_mat_completion(train, d, num_epoch = 10, TOL = 1e-2, lamb = 0.01, sigma = 0, step = 1e-3, bs = 4):\n",
        "    '''\n",
        "    SGD for matrix factorization\n",
        "    train: tensor (not sparse)\n",
        "    d: reconstruction dimension\n",
        "    '''\n",
        "    # initialize parameters\n",
        "    m = num_usrs\n",
        "    n = num_mvs\n",
        "    len_train = train.shape[0]\n",
        "    unit_iter = np.floor(len_train / bs).astype(int) # every time a number of examples are seen that exceeds the size of the training set\n",
        "    num_iter = num_epoch * unit_iter\n",
        "\n",
        "    # initialize matrix factorization\n",
        "    u0 = sigma * np.random.rand(m, d)\n",
        "    v0 = sigma * np.random.rand(n, d)\n",
        "    u = torch.tensor(u0, requires_grad=True, device=cuda)\n",
        "    v = torch.tensor(v0, requires_grad=True, device=cuda)\n",
        "    \n",
        "    # record err\n",
        "    err_list = []\n",
        "    running_err = 0\n",
        "    old_running_err = 0\n",
        "    \n",
        "    for i in range(num_iter):\n",
        "        \n",
        "        # create SGD batch\n",
        "        idx = torch.randperm(len_train)[:bs]\n",
        "        train_batch = torch.tensor(train[idx], dtype=torch.long, device=cuda)\n",
        "        # predict\n",
        "        train_pred = (u[train_batch[:,0]] * v[train_batch[:,1]]).sum(axis = 1)\n",
        "        # compute loss\n",
        "        mse_loss = ((train_pred - train_batch[:,2])**2).sum()\n",
        "        reg_loss = lamb * ((u**2).sum() + (v**2).sum())\n",
        "        loss = mse_loss + reg_loss\n",
        "        err = torch.nn.functional.mse_loss(train_pred, train_batch[:,2].double())\n",
        "        running_err += err\n",
        "        err_list.append(err)\n",
        "        # compute gradient of loss\n",
        "        loss.backward()\n",
        "\n",
        "        # converge check\n",
        "        u_grad_norm = torch.linalg.norm(u.grad, float(\"inf\"))\n",
        "        v_grad_norm = torch.linalg.norm(v.grad, float(\"inf\"))\n",
        "        if (i+1)%unit_iter == 0:\n",
        "            print(f'Iteration [{i+1}/{num_iter}]: loss {loss.item():.6f}, average error {running_err / unit_iter:.6f}, '\n",
        "                  f'gradient u {u_grad_norm:.6f}, v {v_grad_norm:.6f}. ')\n",
        "            # rescale step size\n",
        "            step *= 0.9\n",
        "            running_err /= unit_iter\n",
        "            if running_err < TOL: \n",
        "                print(f'Error converge with d = {d}, lambda = {lamb:.4f}, sigma = {sigma:.4f}, step size = {step:.4f}, batch size = {bs}. ')\n",
        "                break\n",
        "            elif torch.abs(old_running_err - running_err) < 1e-3: \n",
        "                print(f'Error diff converge with d = {d}, lambda = {lamb:.4f}, sigma = {sigma:.4f}, step size = {step:.4f}, batch size = {bs}. ')\n",
        "                break\n",
        "            else:\n",
        "                old_running_err = running_err\n",
        "                if (i+1) != num_iter: \n",
        "                    running_err = 0\n",
        "\n",
        "        # SGD update\n",
        "        u.data = u.data - step * u.grad\n",
        "        v.data = v.data - step * v.grad\n",
        "        u.grad.zero_()\n",
        "        v.grad.zero_()\n",
        "\n",
        "    return u.data, v.data, err_list, running_err"
      ],
      "execution_count": 315,
      "outputs": []
    },
    {
      "cell_type": "code",
      "metadata": {
        "id": "wEiCT0ynXbhe"
      },
      "source": [
        "# tune hyperparameters by grid search with d = 10\n",
        "# train and valid split\n",
        "k = 0.8\n",
        "len_train = train.shape[0]\n",
        "num_train = int(len_train * k)\n",
        "perm2 = np.random.permutation(len_train)\n",
        "trains = train[perm2[0:num_train],:]\n",
        "vals = train[perm2[num_train::],:]\n",
        "\n",
        "# set up hyperparameters\n",
        "lamb_list = [0.01, 0.009, 0.008]\n",
        "bs_list = [400]\n",
        "sigma_list = [1]\n",
        "ss_list = [5e-3]\n",
        "trains_err = np.zeros((len(lamb_list), len(bs_list), len(sigma_list), len(ss_list)))\n",
        "vals_err = np.zeros((len(lamb_list), len(bs_list), len(sigma_list), len(ss_list)))\n",
        "\n",
        "for li, lamb in zip(range(len(lamb_list)), lamb_list):\n",
        "    for bi, batchsize in zip(range(len(bs_list)), bs_list):\n",
        "        for gi, sigma in zip(range(len(sigma_list)), sigma_list):\n",
        "            for si, stepsize in zip(range(len(ss_list)), ss_list):\n",
        "                ud, vd, _, trains_err[li, bi, gi, si] = sgd_mat_completion(trains, d = 10, num_epoch = 30, \n",
        "                                        TOL = 0.7, lamb = lamb, sigma = sigma, step = stepsize, bs = batchsize)\n",
        "                # predict\n",
        "                valsp = (ud[vals[:,0]] * vd[vals[:,1]]).sum(axis = 1)\n",
        "                # compute loss\n",
        "                vals_err[li, bi, gi, si] = torch.nn.functional.mse_loss(valsp, torch.tensor(vals[:,2], device=cuda))"
      ],
      "execution_count": null,
      "outputs": []
    },
    {
      "cell_type": "code",
      "metadata": {
        "colab": {
          "base_uri": "https://localhost:8080/"
        },
        "id": "X7_3YCibzKBy",
        "outputId": "b0da5d54-86d7-453a-f168-b566769d6e8e"
      },
      "source": [
        "# train with optimal hyperparameter\n",
        "k_list = [1, 2, 5, 10, 20, 50]\n",
        "test_label = torch.tensor(test[:,2], device=cuda)\n",
        "train_err_listd = []\n",
        "test_err_listd = []\n",
        "for ki in k_list:\n",
        "    ud, vd, _, train_errd = sgd_mat_completion(train, d = 10, num_epoch = 40, \n",
        "                                        TOL = 0.7, lamb = 0.01, sigma = 1, step = 5e-3, bs = 400)\n",
        "    # predict\n",
        "    test_pred = (ud[test[:,0]] * vd[test[:,1]]).sum(axis = 1)\n",
        "    # compute loss\n",
        "    test_errd = torch.nn.functional.mse_loss(test_pred, test_label)\n",
        "    train_err_listd.append(train_errd)\n",
        "    test_err_listd.append(test_errd)"
      ],
      "execution_count": 317,
      "outputs": [
        {
          "output_type": "stream",
          "text": [
            "Iteration [200/8000]: loss 431.754394, average error 1.197200, gradient u 70.120015, v 40.909923. \n",
            "Iteration [400/8000]: loss 415.290477, average error 0.900446, gradient u 41.125370, v 43.480193. \n",
            "Iteration [600/8000]: loss 394.520342, average error 0.870404, gradient u 39.335122, v 33.949514. \n",
            "Iteration [800/8000]: loss 454.488118, average error 0.848493, gradient u 54.061559, v 37.886698. \n",
            "Iteration [1000/8000]: loss 396.718649, average error 0.836311, gradient u 48.525220, v 35.130938. \n",
            "Iteration [1200/8000]: loss 398.979018, average error 0.819470, gradient u 59.140892, v 32.591573. \n",
            "Iteration [1400/8000]: loss 425.165763, average error 0.809139, gradient u 45.775582, v 36.973000. \n",
            "Iteration [1600/8000]: loss 368.334750, average error 0.806480, gradient u 69.087851, v 36.644498. \n",
            "Iteration [1800/8000]: loss 398.559146, average error 0.795872, gradient u 46.657879, v 63.311940. \n",
            "Iteration [2000/8000]: loss 381.856741, average error 0.793382, gradient u 41.967059, v 59.700664. \n",
            "Iteration [2200/8000]: loss 408.156294, average error 0.790625, gradient u 39.463122, v 48.084862. \n",
            "Iteration [2400/8000]: loss 358.569206, average error 0.785072, gradient u 31.412655, v 46.852020. \n",
            "Iteration [2600/8000]: loss 378.035362, average error 0.777869, gradient u 40.623773, v 46.176942. \n",
            "Iteration [2800/8000]: loss 358.982062, average error 0.768599, gradient u 52.151481, v 51.710681. \n",
            "Iteration [3000/8000]: loss 371.604660, average error 0.766673, gradient u 46.184342, v 56.964937. \n",
            "Iteration [3200/8000]: loss 424.169571, average error 0.763803, gradient u 45.654425, v 50.848972. \n",
            "Iteration [3400/8000]: loss 412.986037, average error 0.757830, gradient u 53.576119, v 58.437832. \n",
            "Iteration [3600/8000]: loss 391.100136, average error 0.751129, gradient u 41.093727, v 36.356725. \n",
            "Iteration [3800/8000]: loss 378.637010, average error 0.748112, gradient u 48.432795, v 51.310695. \n",
            "Iteration [4000/8000]: loss 386.348276, average error 0.753171, gradient u 37.042735, v 37.370481. \n",
            "Iteration [4200/8000]: loss 392.152011, average error 0.748322, gradient u 40.478827, v 51.896570. \n",
            "Iteration [4400/8000]: loss 432.049470, average error 0.744181, gradient u 47.711405, v 81.715948. \n",
            "Iteration [4600/8000]: loss 417.386842, average error 0.748549, gradient u 46.759277, v 34.319301. \n",
            "Iteration [4800/8000]: loss 370.880507, average error 0.742251, gradient u 48.972274, v 42.714004. \n",
            "Iteration [5000/8000]: loss 402.830878, average error 0.732104, gradient u 39.779286, v 39.594520. \n",
            "Iteration [5200/8000]: loss 447.562719, average error 0.742429, gradient u 83.639010, v 44.802968. \n",
            "Iteration [5400/8000]: loss 385.880227, average error 0.740712, gradient u 58.363753, v 44.335490. \n",
            "Iteration [5600/8000]: loss 388.602595, average error 0.743102, gradient u 49.807575, v 33.952754. \n",
            "Iteration [5800/8000]: loss 387.577620, average error 0.732848, gradient u 53.200223, v 60.597412. \n",
            "Iteration [6000/8000]: loss 368.423202, average error 0.731189, gradient u 45.594035, v 36.992291. \n",
            "Iteration [6200/8000]: loss 372.703684, average error 0.734554, gradient u 40.483767, v 32.387992. \n",
            "Iteration [6400/8000]: loss 364.869522, average error 0.737379, gradient u 42.192873, v 31.836451. \n",
            "Iteration [6600/8000]: loss 432.944033, average error 0.736147, gradient u 57.841877, v 37.376130. \n",
            "Iteration [6800/8000]: loss 422.215173, average error 0.735734, gradient u 44.361215, v 51.874425. \n",
            "Error diff converge with d = 10, lambda = 0.0100, sigma = 1.0000, step size = 0.0001, batch size = 400. \n",
            "Iteration [200/8000]: loss 479.220560, average error 1.193942, gradient u 47.607142, v 48.289425. \n",
            "Iteration [400/8000]: loss 411.141428, average error 0.907530, gradient u 57.607641, v 38.268058. \n",
            "Iteration [600/8000]: loss 415.427887, average error 0.877531, gradient u 44.333064, v 47.631094. \n",
            "Iteration [800/8000]: loss 412.618355, average error 0.846793, gradient u 44.364444, v 38.699093. \n",
            "Iteration [1000/8000]: loss 425.360001, average error 0.831291, gradient u 49.511521, v 44.804279. \n",
            "Iteration [1200/8000]: loss 428.184512, average error 0.823060, gradient u 44.094955, v 41.799580. \n",
            "Iteration [1400/8000]: loss 407.233901, average error 0.807584, gradient u 61.734435, v 42.046197. \n",
            "Iteration [1600/8000]: loss 448.940256, average error 0.806969, gradient u 54.607194, v 74.688673. \n",
            "Error diff converge with d = 10, lambda = 0.0100, sigma = 1.0000, step size = 0.0022, batch size = 400. \n",
            "Iteration [200/8000]: loss 484.303921, average error 1.183731, gradient u 41.875059, v 45.118402. \n",
            "Iteration [400/8000]: loss 460.369173, average error 0.893716, gradient u 40.118842, v 56.883096. \n",
            "Iteration [600/8000]: loss 427.672325, average error 0.865415, gradient u 37.126113, v 40.207355. \n",
            "Iteration [800/8000]: loss 443.313817, average error 0.845039, gradient u 60.120854, v 42.451133. \n",
            "Iteration [1000/8000]: loss 444.570513, average error 0.831387, gradient u 55.189980, v 56.808350. \n",
            "Iteration [1200/8000]: loss 411.139830, average error 0.822537, gradient u 55.227019, v 44.121405. \n",
            "Iteration [1400/8000]: loss 391.963819, average error 0.817990, gradient u 50.811603, v 42.064480. \n",
            "Iteration [1600/8000]: loss 445.003137, average error 0.802437, gradient u 61.356289, v 38.373609. \n",
            "Iteration [1800/8000]: loss 404.092822, average error 0.787570, gradient u 43.337274, v 46.131572. \n",
            "Iteration [2000/8000]: loss 417.562480, average error 0.791713, gradient u 39.015564, v 35.304569. \n",
            "Iteration [2200/8000]: loss 376.624279, average error 0.776069, gradient u 40.791403, v 34.705110. \n",
            "Iteration [2400/8000]: loss 388.094207, average error 0.765380, gradient u 57.521289, v 38.451778. \n",
            "Iteration [2600/8000]: loss 438.721223, average error 0.767976, gradient u 55.285586, v 40.951859. \n",
            "Iteration [2800/8000]: loss 373.774336, average error 0.758132, gradient u 42.165304, v 31.761514. \n",
            "Iteration [3000/8000]: loss 401.015634, average error 0.762825, gradient u 59.743081, v 47.597517. \n",
            "Iteration [3200/8000]: loss 397.772705, average error 0.750770, gradient u 53.374296, v 58.919012. \n",
            "Iteration [3400/8000]: loss 369.985905, average error 0.747146, gradient u 51.094201, v 43.864509. \n",
            "Iteration [3600/8000]: loss 416.014091, average error 0.740467, gradient u 44.881720, v 53.631208. \n",
            "Iteration [3800/8000]: loss 375.285898, average error 0.742339, gradient u 38.693582, v 47.526015. \n",
            "Iteration [4000/8000]: loss 413.367706, average error 0.745994, gradient u 49.062859, v 51.044955. \n",
            "Iteration [4200/8000]: loss 385.893488, average error 0.737984, gradient u 36.126576, v 48.031118. \n",
            "Iteration [4400/8000]: loss 400.262512, average error 0.737203, gradient u 41.185573, v 36.593055. \n",
            "Error diff converge with d = 10, lambda = 0.0100, sigma = 1.0000, step size = 0.0005, batch size = 400. \n",
            "Iteration [200/8000]: loss 470.296043, average error 1.205713, gradient u 49.644939, v 44.589699. \n",
            "Iteration [400/8000]: loss 462.547633, average error 0.912604, gradient u 53.889396, v 46.418135. \n",
            "Iteration [600/8000]: loss 439.122083, average error 0.864779, gradient u 52.626399, v 42.715646. \n",
            "Iteration [800/8000]: loss 416.047992, average error 0.849906, gradient u 53.553214, v 46.620765. \n",
            "Iteration [1000/8000]: loss 385.953261, average error 0.827964, gradient u 47.358633, v 47.600532. \n",
            "Iteration [1200/8000]: loss 453.135467, average error 0.818131, gradient u 60.583974, v 54.556635. \n",
            "Iteration [1400/8000]: loss 393.247086, average error 0.818760, gradient u 62.637248, v 50.844711. \n",
            "Error diff converge with d = 10, lambda = 0.0100, sigma = 1.0000, step size = 0.0024, batch size = 400. \n",
            "Iteration [200/8000]: loss 416.345783, average error 1.182070, gradient u 36.088463, v 57.942319. \n",
            "Iteration [400/8000]: loss 459.527677, average error 0.903178, gradient u 41.834866, v 54.804844. \n",
            "Iteration [600/8000]: loss 401.111580, average error 0.870194, gradient u 40.890343, v 50.138596. \n",
            "Iteration [800/8000]: loss 430.602859, average error 0.855830, gradient u 71.346959, v 62.331731. \n",
            "Iteration [1000/8000]: loss 431.201163, average error 0.839573, gradient u 40.798768, v 38.948143. \n",
            "Iteration [1200/8000]: loss 427.789596, average error 0.820961, gradient u 53.243265, v 69.152099. \n",
            "Iteration [1400/8000]: loss 408.644402, average error 0.813360, gradient u 47.528712, v 45.553731. \n",
            "Iteration [1600/8000]: loss 393.423345, average error 0.812345, gradient u 42.679060, v 46.804954. \n",
            "Iteration [1800/8000]: loss 399.538858, average error 0.791430, gradient u 56.457512, v 44.513245. \n",
            "Iteration [2000/8000]: loss 421.911218, average error 0.787658, gradient u 62.767587, v 38.667491. \n",
            "Iteration [2200/8000]: loss 419.836090, average error 0.793069, gradient u 57.714462, v 53.934556. \n",
            "Iteration [2400/8000]: loss 397.944590, average error 0.778955, gradient u 52.380491, v 56.509492. \n",
            "Iteration [2600/8000]: loss 459.297172, average error 0.775418, gradient u 55.545514, v 76.212367. \n",
            "Iteration [2800/8000]: loss 415.267274, average error 0.774467, gradient u 55.340832, v 40.370973. \n",
            "Error diff converge with d = 10, lambda = 0.0100, sigma = 1.0000, step size = 0.0011, batch size = 400. \n",
            "Iteration [200/8000]: loss 499.945680, average error 1.178272, gradient u 44.326403, v 45.200040. \n",
            "Iteration [400/8000]: loss 451.847303, average error 0.906986, gradient u 71.536651, v 48.179135. \n",
            "Iteration [600/8000]: loss 428.242602, average error 0.869100, gradient u 34.586967, v 52.844459. \n",
            "Iteration [800/8000]: loss 390.335532, average error 0.836971, gradient u 52.815598, v 37.121505. \n",
            "Iteration [1000/8000]: loss 413.728638, average error 0.832439, gradient u 48.724976, v 48.637376. \n",
            "Iteration [1200/8000]: loss 405.119056, average error 0.824310, gradient u 40.606017, v 72.296534. \n",
            "Iteration [1400/8000]: loss 451.891394, average error 0.814459, gradient u 43.577109, v 40.509686. \n",
            "Iteration [1600/8000]: loss 427.611534, average error 0.806918, gradient u 37.612420, v 44.962059. \n",
            "Iteration [1800/8000]: loss 423.164678, average error 0.797281, gradient u 50.482835, v 44.340784. \n",
            "Iteration [2000/8000]: loss 417.558543, average error 0.793850, gradient u 44.133700, v 59.928999. \n",
            "Iteration [2200/8000]: loss 378.918896, average error 0.787071, gradient u 41.808050, v 58.275209. \n",
            "Iteration [2400/8000]: loss 403.437546, average error 0.777337, gradient u 81.471993, v 58.246654. \n",
            "Iteration [2600/8000]: loss 421.696142, average error 0.774785, gradient u 37.803606, v 49.741149. \n",
            "Iteration [2800/8000]: loss 402.931834, average error 0.768086, gradient u 39.149650, v 44.240911. \n",
            "Iteration [3000/8000]: loss 403.341637, average error 0.763035, gradient u 49.814814, v 56.062923. \n",
            "Iteration [3200/8000]: loss 415.958056, average error 0.760663, gradient u 50.962099, v 48.215824. \n",
            "Iteration [3400/8000]: loss 383.228668, average error 0.756943, gradient u 37.526262, v 54.517939. \n",
            "Iteration [3600/8000]: loss 352.671734, average error 0.751719, gradient u 41.438132, v 30.323884. \n",
            "Iteration [3800/8000]: loss 379.399210, average error 0.748658, gradient u 38.725141, v 44.807328. \n",
            "Iteration [4000/8000]: loss 354.423308, average error 0.750990, gradient u 35.910335, v 31.964602. \n",
            "Iteration [4200/8000]: loss 416.397232, average error 0.741708, gradient u 41.599823, v 57.142940. \n",
            "Iteration [4400/8000]: loss 376.028012, average error 0.739083, gradient u 71.263352, v 46.434081. \n",
            "Iteration [4600/8000]: loss 367.382053, average error 0.741170, gradient u 37.861672, v 36.590922. \n",
            "Iteration [4800/8000]: loss 398.884846, average error 0.738957, gradient u 56.699839, v 51.056434. \n",
            "Iteration [5000/8000]: loss 368.795039, average error 0.738950, gradient u 39.299813, v 34.642012. \n",
            "Error diff converge with d = 10, lambda = 0.0100, sigma = 1.0000, step size = 0.0004, batch size = 400. \n"
          ],
          "name": "stdout"
        }
      ]
    },
    {
      "cell_type": "code",
      "metadata": {
        "colab": {
          "base_uri": "https://localhost:8080/",
          "height": 295
        },
        "id": "DWZ0xrn69h-d",
        "outputId": "bc2d792c-767b-4f7c-aa8a-d5468a2d8ca5"
      },
      "source": [
        "# plot eigenvalue distribution\n",
        "figname = 'b1d'\n",
        "plt.figure(figsize=(6,4))\n",
        "plt.plot(torch.arange(len(k_list)), train_err_listd, label = 'Training reconstruction error')\n",
        "plt.plot(torch.arange(len(k_list)), test_err_listd, label = 'Testing reconstruction error')\n",
        "plt.title('Matrix completion error with first d eigenvectors by MF and SGD')\n",
        "plt.xlabel('d')\n",
        "plt.ylabel('Error')\n",
        "plt.xticks(range(len(k_list)), k_list)\n",
        "plt.xlim([-0.5, len(k_list)-0.5])\n",
        "plt.legend()\n",
        "plt.savefig(figname+'.png', dpi = 300)\n",
        "files.download(figname+'.png')\n",
        "plt.show()"
      ],
      "execution_count": 318,
      "outputs": [
        {
          "output_type": "display_data",
          "data": {
            "application/javascript": [
              "\n",
              "    async function download(id, filename, size) {\n",
              "      if (!google.colab.kernel.accessAllowed) {\n",
              "        return;\n",
              "      }\n",
              "      const div = document.createElement('div');\n",
              "      const label = document.createElement('label');\n",
              "      label.textContent = `Downloading \"${filename}\": `;\n",
              "      div.appendChild(label);\n",
              "      const progress = document.createElement('progress');\n",
              "      progress.max = size;\n",
              "      div.appendChild(progress);\n",
              "      document.body.appendChild(div);\n",
              "\n",
              "      const buffers = [];\n",
              "      let downloaded = 0;\n",
              "\n",
              "      const channel = await google.colab.kernel.comms.open(id);\n",
              "      // Send a message to notify the kernel that we're ready.\n",
              "      channel.send({})\n",
              "\n",
              "      for await (const message of channel.messages) {\n",
              "        // Send a message to notify the kernel that we're ready.\n",
              "        channel.send({})\n",
              "        if (message.buffers) {\n",
              "          for (const buffer of message.buffers) {\n",
              "            buffers.push(buffer);\n",
              "            downloaded += buffer.byteLength;\n",
              "            progress.value = downloaded;\n",
              "          }\n",
              "        }\n",
              "      }\n",
              "      const blob = new Blob(buffers, {type: 'application/binary'});\n",
              "      const a = document.createElement('a');\n",
              "      a.href = window.URL.createObjectURL(blob);\n",
              "      a.download = filename;\n",
              "      div.appendChild(a);\n",
              "      a.click();\n",
              "      div.remove();\n",
              "    }\n",
              "  "
            ],
            "text/plain": [
              "<IPython.core.display.Javascript object>"
            ]
          },
          "metadata": {
            "tags": []
          }
        },
        {
          "output_type": "display_data",
          "data": {
            "application/javascript": [
              "download(\"download_f6d8537a-e603-4ab7-bee6-f363ad28231a\", \"b1d.png\", 138628)"
            ],
            "text/plain": [
              "<IPython.core.display.Javascript object>"
            ]
          },
          "metadata": {
            "tags": []
          }
        },
        {
          "output_type": "display_data",
          "data": {
            "image/png": "[encoded data removed]",
            "text/plain": [
              "<Figure size 432x288 with 1 Axes>"
            ]
          },
          "metadata": {
            "tags": [],
            "needs_background": "light"
          }
        }
      ]
    },
    {
      "cell_type": "code",
      "metadata": {
        "id": "p216SFUh9nNS"
      },
      "source": [
        ""
      ],
      "execution_count": null,
      "outputs": []
    }
  ]
}